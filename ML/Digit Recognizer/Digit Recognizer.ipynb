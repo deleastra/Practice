{
 "cells": [
  {
   "cell_type": "code",
   "execution_count": 39,
   "id": "ffc31356",
   "metadata": {
    "execution": {
     "iopub.execute_input": "2023-01-05T11:38:58.736182Z",
     "iopub.status.busy": "2023-01-05T11:38:58.735258Z",
     "iopub.status.idle": "2023-01-05T11:39:05.831525Z",
     "shell.execute_reply": "2023-01-05T11:39:05.830293Z"
    },
    "papermill": {
     "duration": 7.110039,
     "end_time": "2023-01-05T11:39:05.834277",
     "exception": false,
     "start_time": "2023-01-05T11:38:58.724238",
     "status": "completed"
    },
    "tags": []
   },
   "outputs": [],
   "source": [
    "import pandas as pd\n",
    "import numpy as np\n",
    "\n",
    "import matplotlib.pyplot as plt\n",
    "\n",
    "from tensorflow.keras import models\n",
    "from keras.models import Model\n",
    "from keras.layers import Conv1D, Conv2D, MaxPooling1D, MaxPooling2D, Flatten, Dense, Input, concatenate"
   ]
  },
  {
   "cell_type": "code",
   "execution_count": 2,
   "id": "a2e7390c",
   "metadata": {
    "execution": {
     "iopub.execute_input": "2023-01-05T11:39:05.846107Z",
     "iopub.status.busy": "2023-01-05T11:39:05.844725Z",
     "iopub.status.idle": "2023-01-05T11:39:09.660564Z",
     "shell.execute_reply": "2023-01-05T11:39:09.659209Z"
    },
    "papermill": {
     "duration": 3.824719,
     "end_time": "2023-01-05T11:39:09.663787",
     "exception": false,
     "start_time": "2023-01-05T11:39:05.839068",
     "status": "completed"
    },
    "tags": []
   },
   "outputs": [],
   "source": [
    "input_dir = ''\n",
    "output_dir = ''"
   ]
  },
  {
   "cell_type": "code",
   "execution_count": 3,
   "id": "2d6f970b",
   "metadata": {
    "execution": {
     "iopub.execute_input": "2023-01-05T11:39:09.675009Z",
     "iopub.status.busy": "2023-01-05T11:39:09.674191Z",
     "iopub.status.idle": "2023-01-05T11:39:09.705957Z",
     "shell.execute_reply": "2023-01-05T11:39:09.704537Z"
    },
    "papermill": {
     "duration": 0.040641,
     "end_time": "2023-01-05T11:39:09.709027",
     "exception": false,
     "start_time": "2023-01-05T11:39:09.668386",
     "status": "completed"
    },
    "scrolled": true,
    "tags": []
   },
   "outputs": [
    {
     "data": {
      "text/html": [
       "<div>\n",
       "<style scoped>\n",
       "    .dataframe tbody tr th:only-of-type {\n",
       "        vertical-align: middle;\n",
       "    }\n",
       "\n",
       "    .dataframe tbody tr th {\n",
       "        vertical-align: top;\n",
       "    }\n",
       "\n",
       "    .dataframe thead th {\n",
       "        text-align: right;\n",
       "    }\n",
       "</style>\n",
       "<table border=\"1\" class=\"dataframe\">\n",
       "  <thead>\n",
       "    <tr style=\"text-align: right;\">\n",
       "      <th></th>\n",
       "      <th>label</th>\n",
       "      <th>pixel0</th>\n",
       "      <th>pixel1</th>\n",
       "      <th>pixel2</th>\n",
       "      <th>pixel3</th>\n",
       "      <th>pixel4</th>\n",
       "      <th>pixel5</th>\n",
       "      <th>pixel6</th>\n",
       "      <th>pixel7</th>\n",
       "      <th>pixel8</th>\n",
       "      <th>...</th>\n",
       "      <th>pixel774</th>\n",
       "      <th>pixel775</th>\n",
       "      <th>pixel776</th>\n",
       "      <th>pixel777</th>\n",
       "      <th>pixel778</th>\n",
       "      <th>pixel779</th>\n",
       "      <th>pixel780</th>\n",
       "      <th>pixel781</th>\n",
       "      <th>pixel782</th>\n",
       "      <th>pixel783</th>\n",
       "    </tr>\n",
       "  </thead>\n",
       "  <tbody>\n",
       "    <tr>\n",
       "      <th>0</th>\n",
       "      <td>1</td>\n",
       "      <td>0</td>\n",
       "      <td>0</td>\n",
       "      <td>0</td>\n",
       "      <td>0</td>\n",
       "      <td>0</td>\n",
       "      <td>0</td>\n",
       "      <td>0</td>\n",
       "      <td>0</td>\n",
       "      <td>0</td>\n",
       "      <td>...</td>\n",
       "      <td>0</td>\n",
       "      <td>0</td>\n",
       "      <td>0</td>\n",
       "      <td>0</td>\n",
       "      <td>0</td>\n",
       "      <td>0</td>\n",
       "      <td>0</td>\n",
       "      <td>0</td>\n",
       "      <td>0</td>\n",
       "      <td>0</td>\n",
       "    </tr>\n",
       "    <tr>\n",
       "      <th>1</th>\n",
       "      <td>0</td>\n",
       "      <td>0</td>\n",
       "      <td>0</td>\n",
       "      <td>0</td>\n",
       "      <td>0</td>\n",
       "      <td>0</td>\n",
       "      <td>0</td>\n",
       "      <td>0</td>\n",
       "      <td>0</td>\n",
       "      <td>0</td>\n",
       "      <td>...</td>\n",
       "      <td>0</td>\n",
       "      <td>0</td>\n",
       "      <td>0</td>\n",
       "      <td>0</td>\n",
       "      <td>0</td>\n",
       "      <td>0</td>\n",
       "      <td>0</td>\n",
       "      <td>0</td>\n",
       "      <td>0</td>\n",
       "      <td>0</td>\n",
       "    </tr>\n",
       "    <tr>\n",
       "      <th>2</th>\n",
       "      <td>1</td>\n",
       "      <td>0</td>\n",
       "      <td>0</td>\n",
       "      <td>0</td>\n",
       "      <td>0</td>\n",
       "      <td>0</td>\n",
       "      <td>0</td>\n",
       "      <td>0</td>\n",
       "      <td>0</td>\n",
       "      <td>0</td>\n",
       "      <td>...</td>\n",
       "      <td>0</td>\n",
       "      <td>0</td>\n",
       "      <td>0</td>\n",
       "      <td>0</td>\n",
       "      <td>0</td>\n",
       "      <td>0</td>\n",
       "      <td>0</td>\n",
       "      <td>0</td>\n",
       "      <td>0</td>\n",
       "      <td>0</td>\n",
       "    </tr>\n",
       "    <tr>\n",
       "      <th>3</th>\n",
       "      <td>4</td>\n",
       "      <td>0</td>\n",
       "      <td>0</td>\n",
       "      <td>0</td>\n",
       "      <td>0</td>\n",
       "      <td>0</td>\n",
       "      <td>0</td>\n",
       "      <td>0</td>\n",
       "      <td>0</td>\n",
       "      <td>0</td>\n",
       "      <td>...</td>\n",
       "      <td>0</td>\n",
       "      <td>0</td>\n",
       "      <td>0</td>\n",
       "      <td>0</td>\n",
       "      <td>0</td>\n",
       "      <td>0</td>\n",
       "      <td>0</td>\n",
       "      <td>0</td>\n",
       "      <td>0</td>\n",
       "      <td>0</td>\n",
       "    </tr>\n",
       "    <tr>\n",
       "      <th>4</th>\n",
       "      <td>0</td>\n",
       "      <td>0</td>\n",
       "      <td>0</td>\n",
       "      <td>0</td>\n",
       "      <td>0</td>\n",
       "      <td>0</td>\n",
       "      <td>0</td>\n",
       "      <td>0</td>\n",
       "      <td>0</td>\n",
       "      <td>0</td>\n",
       "      <td>...</td>\n",
       "      <td>0</td>\n",
       "      <td>0</td>\n",
       "      <td>0</td>\n",
       "      <td>0</td>\n",
       "      <td>0</td>\n",
       "      <td>0</td>\n",
       "      <td>0</td>\n",
       "      <td>0</td>\n",
       "      <td>0</td>\n",
       "      <td>0</td>\n",
       "    </tr>\n",
       "  </tbody>\n",
       "</table>\n",
       "<p>5 rows × 785 columns</p>\n",
       "</div>"
      ],
      "text/plain": [
       "   label  pixel0  pixel1  pixel2  pixel3  pixel4  pixel5  pixel6  pixel7  \\\n",
       "0      1       0       0       0       0       0       0       0       0   \n",
       "1      0       0       0       0       0       0       0       0       0   \n",
       "2      1       0       0       0       0       0       0       0       0   \n",
       "3      4       0       0       0       0       0       0       0       0   \n",
       "4      0       0       0       0       0       0       0       0       0   \n",
       "\n",
       "   pixel8  ...  pixel774  pixel775  pixel776  pixel777  pixel778  pixel779  \\\n",
       "0       0  ...         0         0         0         0         0         0   \n",
       "1       0  ...         0         0         0         0         0         0   \n",
       "2       0  ...         0         0         0         0         0         0   \n",
       "3       0  ...         0         0         0         0         0         0   \n",
       "4       0  ...         0         0         0         0         0         0   \n",
       "\n",
       "   pixel780  pixel781  pixel782  pixel783  \n",
       "0         0         0         0         0  \n",
       "1         0         0         0         0  \n",
       "2         0         0         0         0  \n",
       "3         0         0         0         0  \n",
       "4         0         0         0         0  \n",
       "\n",
       "[5 rows x 785 columns]"
      ]
     },
     "execution_count": 3,
     "metadata": {},
     "output_type": "execute_result"
    }
   ],
   "source": [
    "train_df = pd.read_csv(input_dir + 'train.csv')\n",
    "train_df.head()"
   ]
  },
  {
   "cell_type": "code",
   "execution_count": 78,
   "id": "a58cbfe0",
   "metadata": {
    "execution": {
     "iopub.execute_input": "2023-01-05T11:39:09.720716Z",
     "iopub.status.busy": "2023-01-05T11:39:09.720287Z",
     "iopub.status.idle": "2023-01-05T11:39:09.728677Z",
     "shell.execute_reply": "2023-01-05T11:39:09.727420Z"
    },
    "papermill": {
     "duration": 0.016966,
     "end_time": "2023-01-05T11:39:09.731003",
     "exception": false,
     "start_time": "2023-01-05T11:39:09.714037",
     "status": "completed"
    },
    "tags": []
   },
   "outputs": [
    {
     "data": {
      "text/plain": [
       "(42000, 28, 28, 1)"
      ]
     },
     "execution_count": 78,
     "metadata": {},
     "output_type": "execute_result"
    }
   ],
   "source": [
    "x_train = np.reshape(train_df.iloc[:, 1:].values, (-1, 28, 28, 1))\n",
    "x_train.shape"
   ]
  },
  {
   "cell_type": "code",
   "execution_count": 79,
   "id": "e01ca4f8",
   "metadata": {
    "execution": {
     "iopub.execute_input": "2023-01-05T11:39:09.742887Z",
     "iopub.status.busy": "2023-01-05T11:39:09.742463Z",
     "iopub.status.idle": "2023-01-05T11:39:09.752703Z",
     "shell.execute_reply": "2023-01-05T11:39:09.751515Z"
    },
    "papermill": {
     "duration": 0.020095,
     "end_time": "2023-01-05T11:39:09.756049",
     "exception": false,
     "start_time": "2023-01-05T11:39:09.735954",
     "status": "completed"
    },
    "tags": []
   },
   "outputs": [
    {
     "data": {
      "text/plain": [
       "(42000, 10)"
      ]
     },
     "execution_count": 79,
     "metadata": {},
     "output_type": "execute_result"
    }
   ],
   "source": [
    "y_train = train_df.iloc[:, 0].values\n",
    "y_train = np.eye(10)[y_train]\n",
    "y_train.shape"
   ]
  },
  {
   "cell_type": "code",
   "execution_count": 80,
   "id": "1b97bc1e",
   "metadata": {},
   "outputs": [
    {
     "data": {
      "text/plain": [
       "array([1., 0., 0., 0., 0., 0., 0., 0., 0., 0.])"
      ]
     },
     "execution_count": 80,
     "metadata": {},
     "output_type": "execute_result"
    }
   ],
   "source": [
    "y_train[1]"
   ]
  },
  {
   "cell_type": "code",
   "execution_count": 6,
   "id": "87c9c40a",
   "metadata": {
    "execution": {
     "iopub.execute_input": "2023-01-05T11:39:09.777895Z",
     "iopub.status.busy": "2023-01-05T11:39:09.777371Z",
     "iopub.status.idle": "2023-01-05T11:39:09.961896Z",
     "shell.execute_reply": "2023-01-05T11:39:09.960942Z"
    },
    "papermill": {
     "duration": 0.193684,
     "end_time": "2023-01-05T11:39:09.964201",
     "exception": false,
     "start_time": "2023-01-05T11:39:09.770517",
     "status": "completed"
    },
    "tags": []
   },
   "outputs": [
    {
     "data": {
      "image/png": "[encoded data removed]",
      "text/plain": [
       "<Figure size 432x288 with 1 Axes>"
      ]
     },
     "metadata": {
      "needs_background": "light"
     },
     "output_type": "display_data"
    },
    {
     "data": {
      "text/plain": [
       "array([0., 1., 0., 0., 0., 0., 0., 0., 0., 0.])"
      ]
     },
     "execution_count": 6,
     "metadata": {},
     "output_type": "execute_result"
    }
   ],
   "source": [
    "plt.imshow(x_train[0], interpolation='nearest')\n",
    "plt.show()\n",
    "y_train[0]"
   ]
  },
  {
   "cell_type": "code",
   "execution_count": 7,
   "id": "f39cbb21",
   "metadata": {
    "execution": {
     "iopub.execute_input": "2023-01-05T11:39:09.976541Z",
     "iopub.status.busy": "2023-01-05T11:39:09.975878Z",
     "iopub.status.idle": "2023-01-05T11:39:10.158480Z",
     "shell.execute_reply": "2023-01-05T11:39:10.157134Z"
    },
    "papermill": {
     "duration": 0.191749,
     "end_time": "2023-01-05T11:39:10.161209",
     "exception": false,
     "start_time": "2023-01-05T11:39:09.969460",
     "status": "completed"
    },
    "tags": []
   },
   "outputs": [
    {
     "data": {
      "image/png": "[encoded data removed]",
      "text/plain": [
       "<Figure size 432x288 with 1 Axes>"
      ]
     },
     "metadata": {
      "needs_background": "light"
     },
     "output_type": "display_data"
    },
    {
     "data": {
      "text/plain": [
       "array([1., 0., 0., 0., 0., 0., 0., 0., 0., 0.])"
      ]
     },
     "execution_count": 7,
     "metadata": {},
     "output_type": "execute_result"
    }
   ],
   "source": [
    "plt.imshow(x_train[1], interpolation='nearest')\n",
    "plt.show()\n",
    "y_train[1]"
   ]
  },
  {
   "cell_type": "code",
   "execution_count": 93,
   "id": "bc0dc8e0",
   "metadata": {
    "execution": {
     "iopub.execute_input": "2023-01-05T11:39:10.174400Z",
     "iopub.status.busy": "2023-01-05T11:39:10.173977Z",
     "iopub.status.idle": "2023-01-05T11:39:10.512132Z",
     "shell.execute_reply": "2023-01-05T11:39:10.510982Z"
    },
    "papermill": {
     "duration": 0.348069,
     "end_time": "2023-01-05T11:39:10.514992",
     "exception": false,
     "start_time": "2023-01-05T11:39:10.166923",
     "status": "completed"
    },
    "tags": []
   },
   "outputs": [
    {
     "name": "stdout",
     "output_type": "stream",
     "text": [
      "Model: \"sequential_24\"\n",
      "_________________________________________________________________\n",
      " Layer (type)                Output Shape              Param #   \n",
      "=================================================================\n",
      " conv1d_44 (Conv1D)          (None, 26, 32)            2720      \n",
      "                                                                 \n",
      " max_pooling1d_32 (MaxPoolin  (None, 13, 32)           0         \n",
      " g1D)                                                            \n",
      "                                                                 \n",
      " conv1d_45 (Conv1D)          (None, 11, 64)            6208      \n",
      "                                                                 \n",
      " conv1d_46 (Conv1D)          (None, 7, 64)             20544     \n",
      "                                                                 \n",
      " max_pooling1d_33 (MaxPoolin  (None, 3, 64)            0         \n",
      " g1D)                                                            \n",
      "                                                                 \n",
      " flatten_17 (Flatten)        (None, 192)               0         \n",
      "                                                                 \n",
      " dense_39 (Dense)            (None, 128)               24704     \n",
      "                                                                 \n",
      " dense_40 (Dense)            (None, 128)               16512     \n",
      "                                                                 \n",
      " dense_41 (Dense)            (None, 10)                1290      \n",
      "                                                                 \n",
      "=================================================================\n",
      "Total params: 71,978\n",
      "Trainable params: 71,978\n",
      "Non-trainable params: 0\n",
      "_________________________________________________________________\n"
     ]
    }
   ],
   "source": [
    "model = models.Sequential()\n",
    "\n",
    "model.add(Conv1D(32, kernel_size=3, activation='relu', input_shape=(28, 28)))\n",
    "\n",
    "model.add(MaxPooling1D(pool_size=2))\n",
    "\n",
    "\n",
    "model.add(Conv1D(64, kernel_size=3, activation='relu'))\n",
    "model.add(Conv1D(64, kernel_size=5, activation='relu'))\n",
    "\n",
    "model.add(MaxPooling1D(pool_size=2))\n",
    "\n",
    "model.add(Flatten())\n",
    "\n",
    "model.add(Dense(units=128, activation='relu'))\n",
    "model.add(Dense(units=128, activation='relu'))\n",
    "\n",
    "model.add(Dense(units=10, activation='softmax'))\n",
    "model.summary()\n",
    "model.compile(loss='categorical_crossentropy', optimizer='adam', metrics=['accuracy'])"
   ]
  },
  {
   "cell_type": "code",
   "execution_count": 81,
   "id": "e5ae298c",
   "metadata": {},
   "outputs": [
    {
     "name": "stdout",
     "output_type": "stream",
     "text": [
      "Model: \"sequential_17\"\n",
      "_________________________________________________________________\n",
      " Layer (type)                Output Shape              Param #   \n",
      "=================================================================\n",
      " conv2d_43 (Conv2D)          (None, 28, 28, 64)        640       \n",
      "                                                                 \n",
      " conv2d_44 (Conv2D)          (None, 28, 28, 64)        36928     \n",
      "                                                                 \n",
      " conv2d_45 (Conv2D)          (None, 28, 28, 128)       73856     \n",
      "                                                                 \n",
      " max_pooling2d_11 (MaxPoolin  (None, 14, 14, 128)      0         \n",
      " g2D)                                                            \n",
      "                                                                 \n",
      " conv2d_46 (Conv2D)          (None, 14, 14, 128)       147584    \n",
      "                                                                 \n",
      " conv2d_47 (Conv2D)          (None, 14, 14, 192)       221376    \n",
      "                                                                 \n",
      " max_pooling2d_12 (MaxPoolin  (None, 7, 7, 192)        0         \n",
      " g2D)                                                            \n",
      "                                                                 \n",
      " conv2d_48 (Conv2D)          (None, 7, 7, 192)         921792    \n",
      "                                                                 \n",
      " max_pooling2d_13 (MaxPoolin  (None, 4, 4, 192)        0         \n",
      " g2D)                                                            \n",
      "                                                                 \n",
      " flatten_14 (Flatten)        (None, 3072)              0         \n",
      "                                                                 \n",
      " dense_31 (Dense)            (None, 256)               786688    \n",
      "                                                                 \n",
      " dense_32 (Dense)            (None, 10)                2570      \n",
      "                                                                 \n",
      "=================================================================\n",
      "Total params: 2,191,434\n",
      "Trainable params: 2,191,434\n",
      "Non-trainable params: 0\n",
      "_________________________________________________________________\n"
     ]
    }
   ],
   "source": [
    "model = models.Sequential()\n",
    "model.add(Conv2D(filters=64, kernel_size=3, padding='same', activation='relu', input_shape=(28,28,1)))\n",
    "model.add(Conv2D(filters=64, kernel_size=3, padding='same', activation='relu'))\n",
    "model.add(Conv2D(filters=128, kernel_size=3, padding='same', activation='relu'))\n",
    "model.add(MaxPooling2D(pool_size=2))\n",
    "model.add(Conv2D(filters=128, kernel_size=3, padding='same', activation='relu'))\n",
    "model.add(Conv2D(filters=192, kernel_size=3, padding='same', activation='relu'))\n",
    "model.add(MaxPooling2D(pool_size=2))\n",
    "model.add(Conv2D(filters=192, kernel_size=5, padding='same', activation='relu'))\n",
    "model.add(MaxPooling2D(pool_size=2, padding='same'))\n",
    "model.add(Flatten())\n",
    "model.add(Dense(256, activation='relu'))\n",
    "model.add(Dense(10, activation='softmax'))\n",
    "# summarize the model\n",
    "model.summary()\n",
    "model.compile(loss='categorical_crossentropy', optimizer='adam', metrics=['accuracy'])"
   ]
  },
  {
   "cell_type": "code",
   "execution_count": 91,
   "id": "2cba46d9",
   "metadata": {},
   "outputs": [
    {
     "name": "stdout",
     "output_type": "stream",
     "text": [
      "Model: \"sequential_23\"\n",
      "_________________________________________________________________\n",
      " Layer (type)                Output Shape              Param #   \n",
      "=================================================================\n",
      " conv2d_67 (Conv2D)          (None, 26, 26, 64)        640       \n",
      "                                                                 \n",
      " conv2d_68 (Conv2D)          (None, 24, 24, 64)        36928     \n",
      "                                                                 \n",
      " max_pooling2d_20 (MaxPoolin  (None, 12, 12, 64)       0         \n",
      " g2D)                                                            \n",
      "                                                                 \n",
      " conv2d_69 (Conv2D)          (None, 10, 10, 128)       73856     \n",
      "                                                                 \n",
      " conv2d_70 (Conv2D)          (None, 8, 8, 128)         147584    \n",
      "                                                                 \n",
      " max_pooling2d_21 (MaxPoolin  (None, 4, 4, 128)        0         \n",
      " g2D)                                                            \n",
      "                                                                 \n",
      " conv2d_71 (Conv2D)          (None, 2, 2, 192)         221376    \n",
      "                                                                 \n",
      " max_pooling2d_22 (MaxPoolin  (None, 1, 1, 192)        0         \n",
      " g2D)                                                            \n",
      "                                                                 \n",
      " flatten_16 (Flatten)        (None, 192)               0         \n",
      "                                                                 \n",
      " dense_36 (Dense)            (None, 4096)              790528    \n",
      "                                                                 \n",
      " dense_37 (Dense)            (None, 4096)              16781312  \n",
      "                                                                 \n",
      " dense_38 (Dense)            (None, 10)                40970     \n",
      "                                                                 \n",
      "=================================================================\n",
      "Total params: 18,093,194\n",
      "Trainable params: 18,093,194\n",
      "Non-trainable params: 0\n",
      "_________________________________________________________________\n"
     ]
    }
   ],
   "source": [
    "# Define the model\n",
    "model = models.Sequential()\n",
    "\n",
    "# Add the convolutional layers\n",
    "model.add(Conv2D(64, kernel_size=3, activation='relu', input_shape=(28, 28, 1)))\n",
    "model.add(Conv2D(64, kernel_size=3, activation='relu'))\n",
    "model.add(MaxPooling2D(pool_size=2))\n",
    "\n",
    "model.add(Conv2D(128, kernel_size=3, activation='relu'))\n",
    "model.add(Conv2D(128, kernel_size=3, activation='relu'))\n",
    "model.add(MaxPooling2D(pool_size=2))\n",
    "\n",
    "model.add(Conv2D(192, kernel_size=3, activation='relu'))\n",
    "model.add(MaxPooling2D(pool_size=2))\n",
    "\n",
    "model.add(Flatten())\n",
    "model.add(Dense(4096, activation='relu'))\n",
    "model.add(Dense(4096, activation='relu'))\n",
    "model.add(Dense(10, activation='softmax'))\n",
    "\n",
    "# Compile the model\n",
    "model.summary()\n",
    "model.compile(loss='categorical_crossentropy', optimizer='adam', metrics=['accuracy'])"
   ]
  },
  {
   "cell_type": "code",
   "execution_count": 94,
   "id": "cdff962b",
   "metadata": {
    "execution": {
     "iopub.execute_input": "2023-01-05T11:39:10.550956Z",
     "iopub.status.busy": "2023-01-05T11:39:10.550526Z",
     "iopub.status.idle": "2023-01-05T11:40:10.394965Z",
     "shell.execute_reply": "2023-01-05T11:40:10.393624Z"
    },
    "papermill": {
     "duration": 59.854245,
     "end_time": "2023-01-05T11:40:10.397813",
     "exception": false,
     "start_time": "2023-01-05T11:39:10.543568",
     "status": "completed"
    },
    "tags": []
   },
   "outputs": [
    {
     "name": "stdout",
     "output_type": "stream",
     "text": [
      "Epoch 1/10\n",
      "1050/1050 [==============================] - 2s 2ms/step - loss: 0.6605 - accuracy: 0.8600 - val_loss: 0.2005 - val_accuracy: 0.9401\n",
      "Epoch 2/10\n",
      "1050/1050 [==============================] - 2s 2ms/step - loss: 0.1538 - accuracy: 0.9544 - val_loss: 0.1674 - val_accuracy: 0.9465\n",
      "Epoch 3/10\n",
      "1050/1050 [==============================] - 2s 2ms/step - loss: 0.1107 - accuracy: 0.9661 - val_loss: 0.1314 - val_accuracy: 0.9619\n",
      "Epoch 4/10\n",
      "1050/1050 [==============================] - 2s 2ms/step - loss: 0.0912 - accuracy: 0.9728 - val_loss: 0.0996 - val_accuracy: 0.9714\n",
      "Epoch 5/10\n",
      "1050/1050 [==============================] - 2s 2ms/step - loss: 0.0848 - accuracy: 0.9751 - val_loss: 0.0880 - val_accuracy: 0.9748\n",
      "Epoch 6/10\n",
      "1050/1050 [==============================] - 2s 2ms/step - loss: 0.0732 - accuracy: 0.9787 - val_loss: 0.1144 - val_accuracy: 0.9702\n",
      "Epoch 7/10\n",
      "1050/1050 [==============================] - 2s 2ms/step - loss: 0.0641 - accuracy: 0.9805 - val_loss: 0.1396 - val_accuracy: 0.9675\n",
      "Epoch 8/10\n",
      "1050/1050 [==============================] - 2s 2ms/step - loss: 0.0595 - accuracy: 0.9833 - val_loss: 0.0922 - val_accuracy: 0.9763\n",
      "Epoch 9/10\n",
      "1050/1050 [==============================] - 2s 2ms/step - loss: 0.0537 - accuracy: 0.9848 - val_loss: 0.0980 - val_accuracy: 0.9742\n",
      "Epoch 10/10\n",
      "1050/1050 [==============================] - 2s 2ms/step - loss: 0.0489 - accuracy: 0.9859 - val_loss: 0.0859 - val_accuracy: 0.9781\n"
     ]
    }
   ],
   "source": [
    "history = model.fit(x_train, y_train, epochs=10, validation_split = 0.2, verbose=1)"
   ]
  },
  {
   "cell_type": "code",
   "execution_count": 95,
   "id": "8e3feabc",
   "metadata": {
    "execution": {
     "iopub.execute_input": "2023-01-05T11:40:10.537190Z",
     "iopub.status.busy": "2023-01-05T11:40:10.536220Z",
     "iopub.status.idle": "2023-01-05T11:40:10.739802Z",
     "shell.execute_reply": "2023-01-05T11:40:10.738499Z"
    },
    "papermill": {
     "duration": 0.276401,
     "end_time": "2023-01-05T11:40:10.742682",
     "exception": false,
     "start_time": "2023-01-05T11:40:10.466281",
     "status": "completed"
    },
    "tags": []
   },
   "outputs": [
    {
     "data": {
      "image/png": "[encoded data removed]",
      "text/plain": [
       "<Figure size 432x288 with 1 Axes>"
      ]
     },
     "metadata": {
      "needs_background": "light"
     },
     "output_type": "display_data"
    }
   ],
   "source": [
    "# Extract the accuracy from the history object\n",
    "acc = history.history['accuracy']\n",
    "val_acc = history.history['val_accuracy']\n",
    "\n",
    "# Plot the accuracy\n",
    "plt.plot(acc)\n",
    "plt.plot(val_acc)\n",
    "plt.title('Model accuracy')\n",
    "plt.ylabel('Accuracy') \n",
    "plt.xlabel('Epoch')\n",
    "plt.legend(['Train', 'Validation'], loc='upper left')\n",
    "plt.show()"
   ]
  },
  {
   "cell_type": "code",
   "execution_count": 96,
   "id": "0e374dfd",
   "metadata": {
    "execution": {
     "iopub.execute_input": "2023-01-05T11:40:10.881089Z",
     "iopub.status.busy": "2023-01-05T11:40:10.880665Z",
     "iopub.status.idle": "2023-01-05T11:40:13.045588Z",
     "shell.execute_reply": "2023-01-05T11:40:13.044214Z"
    },
    "papermill": {
     "duration": 2.236707,
     "end_time": "2023-01-05T11:40:13.048208",
     "exception": false,
     "start_time": "2023-01-05T11:40:10.811501",
     "status": "completed"
    },
    "tags": []
   },
   "outputs": [
    {
     "data": {
      "text/html": [
       "<div>\n",
       "<style scoped>\n",
       "    .dataframe tbody tr th:only-of-type {\n",
       "        vertical-align: middle;\n",
       "    }\n",
       "\n",
       "    .dataframe tbody tr th {\n",
       "        vertical-align: top;\n",
       "    }\n",
       "\n",
       "    .dataframe thead th {\n",
       "        text-align: right;\n",
       "    }\n",
       "</style>\n",
       "<table border=\"1\" class=\"dataframe\">\n",
       "  <thead>\n",
       "    <tr style=\"text-align: right;\">\n",
       "      <th></th>\n",
       "      <th>pixel0</th>\n",
       "      <th>pixel1</th>\n",
       "      <th>pixel2</th>\n",
       "      <th>pixel3</th>\n",
       "      <th>pixel4</th>\n",
       "      <th>pixel5</th>\n",
       "      <th>pixel6</th>\n",
       "      <th>pixel7</th>\n",
       "      <th>pixel8</th>\n",
       "      <th>pixel9</th>\n",
       "      <th>...</th>\n",
       "      <th>pixel774</th>\n",
       "      <th>pixel775</th>\n",
       "      <th>pixel776</th>\n",
       "      <th>pixel777</th>\n",
       "      <th>pixel778</th>\n",
       "      <th>pixel779</th>\n",
       "      <th>pixel780</th>\n",
       "      <th>pixel781</th>\n",
       "      <th>pixel782</th>\n",
       "      <th>pixel783</th>\n",
       "    </tr>\n",
       "  </thead>\n",
       "  <tbody>\n",
       "    <tr>\n",
       "      <th>0</th>\n",
       "      <td>0</td>\n",
       "      <td>0</td>\n",
       "      <td>0</td>\n",
       "      <td>0</td>\n",
       "      <td>0</td>\n",
       "      <td>0</td>\n",
       "      <td>0</td>\n",
       "      <td>0</td>\n",
       "      <td>0</td>\n",
       "      <td>0</td>\n",
       "      <td>...</td>\n",
       "      <td>0</td>\n",
       "      <td>0</td>\n",
       "      <td>0</td>\n",
       "      <td>0</td>\n",
       "      <td>0</td>\n",
       "      <td>0</td>\n",
       "      <td>0</td>\n",
       "      <td>0</td>\n",
       "      <td>0</td>\n",
       "      <td>0</td>\n",
       "    </tr>\n",
       "    <tr>\n",
       "      <th>1</th>\n",
       "      <td>0</td>\n",
       "      <td>0</td>\n",
       "      <td>0</td>\n",
       "      <td>0</td>\n",
       "      <td>0</td>\n",
       "      <td>0</td>\n",
       "      <td>0</td>\n",
       "      <td>0</td>\n",
       "      <td>0</td>\n",
       "      <td>0</td>\n",
       "      <td>...</td>\n",
       "      <td>0</td>\n",
       "      <td>0</td>\n",
       "      <td>0</td>\n",
       "      <td>0</td>\n",
       "      <td>0</td>\n",
       "      <td>0</td>\n",
       "      <td>0</td>\n",
       "      <td>0</td>\n",
       "      <td>0</td>\n",
       "      <td>0</td>\n",
       "    </tr>\n",
       "    <tr>\n",
       "      <th>2</th>\n",
       "      <td>0</td>\n",
       "      <td>0</td>\n",
       "      <td>0</td>\n",
       "      <td>0</td>\n",
       "      <td>0</td>\n",
       "      <td>0</td>\n",
       "      <td>0</td>\n",
       "      <td>0</td>\n",
       "      <td>0</td>\n",
       "      <td>0</td>\n",
       "      <td>...</td>\n",
       "      <td>0</td>\n",
       "      <td>0</td>\n",
       "      <td>0</td>\n",
       "      <td>0</td>\n",
       "      <td>0</td>\n",
       "      <td>0</td>\n",
       "      <td>0</td>\n",
       "      <td>0</td>\n",
       "      <td>0</td>\n",
       "      <td>0</td>\n",
       "    </tr>\n",
       "    <tr>\n",
       "      <th>3</th>\n",
       "      <td>0</td>\n",
       "      <td>0</td>\n",
       "      <td>0</td>\n",
       "      <td>0</td>\n",
       "      <td>0</td>\n",
       "      <td>0</td>\n",
       "      <td>0</td>\n",
       "      <td>0</td>\n",
       "      <td>0</td>\n",
       "      <td>0</td>\n",
       "      <td>...</td>\n",
       "      <td>0</td>\n",
       "      <td>0</td>\n",
       "      <td>0</td>\n",
       "      <td>0</td>\n",
       "      <td>0</td>\n",
       "      <td>0</td>\n",
       "      <td>0</td>\n",
       "      <td>0</td>\n",
       "      <td>0</td>\n",
       "      <td>0</td>\n",
       "    </tr>\n",
       "    <tr>\n",
       "      <th>4</th>\n",
       "      <td>0</td>\n",
       "      <td>0</td>\n",
       "      <td>0</td>\n",
       "      <td>0</td>\n",
       "      <td>0</td>\n",
       "      <td>0</td>\n",
       "      <td>0</td>\n",
       "      <td>0</td>\n",
       "      <td>0</td>\n",
       "      <td>0</td>\n",
       "      <td>...</td>\n",
       "      <td>0</td>\n",
       "      <td>0</td>\n",
       "      <td>0</td>\n",
       "      <td>0</td>\n",
       "      <td>0</td>\n",
       "      <td>0</td>\n",
       "      <td>0</td>\n",
       "      <td>0</td>\n",
       "      <td>0</td>\n",
       "      <td>0</td>\n",
       "    </tr>\n",
       "  </tbody>\n",
       "</table>\n",
       "<p>5 rows × 784 columns</p>\n",
       "</div>"
      ],
      "text/plain": [
       "   pixel0  pixel1  pixel2  pixel3  pixel4  pixel5  pixel6  pixel7  pixel8  \\\n",
       "0       0       0       0       0       0       0       0       0       0   \n",
       "1       0       0       0       0       0       0       0       0       0   \n",
       "2       0       0       0       0       0       0       0       0       0   \n",
       "3       0       0       0       0       0       0       0       0       0   \n",
       "4       0       0       0       0       0       0       0       0       0   \n",
       "\n",
       "   pixel9  ...  pixel774  pixel775  pixel776  pixel777  pixel778  pixel779  \\\n",
       "0       0  ...         0         0         0         0         0         0   \n",
       "1       0  ...         0         0         0         0         0         0   \n",
       "2       0  ...         0         0         0         0         0         0   \n",
       "3       0  ...         0         0         0         0         0         0   \n",
       "4       0  ...         0         0         0         0         0         0   \n",
       "\n",
       "   pixel780  pixel781  pixel782  pixel783  \n",
       "0         0         0         0         0  \n",
       "1         0         0         0         0  \n",
       "2         0         0         0         0  \n",
       "3         0         0         0         0  \n",
       "4         0         0         0         0  \n",
       "\n",
       "[5 rows x 784 columns]"
      ]
     },
     "execution_count": 96,
     "metadata": {},
     "output_type": "execute_result"
    }
   ],
   "source": [
    "test_df = pd.read_csv(input_dir + 'test.csv')\n",
    "test_df.head()"
   ]
  },
  {
   "cell_type": "code",
   "execution_count": 98,
   "id": "349f5b73",
   "metadata": {
    "execution": {
     "iopub.execute_input": "2023-01-05T11:40:13.191493Z",
     "iopub.status.busy": "2023-01-05T11:40:13.191002Z",
     "iopub.status.idle": "2023-01-05T11:40:16.280741Z",
     "shell.execute_reply": "2023-01-05T11:40:16.279306Z"
    },
    "papermill": {
     "duration": 3.163843,
     "end_time": "2023-01-05T11:40:16.283728",
     "exception": false,
     "start_time": "2023-01-05T11:40:13.119885",
     "status": "completed"
    },
    "tags": []
   },
   "outputs": [
    {
     "name": "stdout",
     "output_type": "stream",
     "text": [
      "875/875 [==============================] - 1s 735us/step\n"
     ]
    }
   ],
   "source": [
    "x_test = np.reshape(test_df.values, (-1, 28, 28, 1))\n",
    "predict = model.predict(x_test)\n",
    "predict = np.argmax(predict, axis=1)\n",
    "submission_df = pd.read_csv(input_dir + 'sample_submission.csv')\n",
    "submission_df['Label'] = predict\n",
    "submission_df.to_csv(output_dir + 'submission.csv', index=False)"
   ]
  },
  {
   "cell_type": "code",
   "execution_count": 99,
   "id": "aa48a7ac",
   "metadata": {
    "execution": {
     "iopub.execute_input": "2023-01-05T11:40:16.426281Z",
     "iopub.status.busy": "2023-01-05T11:40:16.425865Z",
     "iopub.status.idle": "2023-01-05T11:40:16.603647Z",
     "shell.execute_reply": "2023-01-05T11:40:16.602707Z"
    },
    "papermill": {
     "duration": 0.251813,
     "end_time": "2023-01-05T11:40:16.605938",
     "exception": false,
     "start_time": "2023-01-05T11:40:16.354125",
     "status": "completed"
    },
    "tags": []
   },
   "outputs": [
    {
     "data": {
      "image/png": "[encoded data removed]",
      "text/plain": [
       "<Figure size 432x288 with 1 Axes>"
      ]
     },
     "metadata": {
      "needs_background": "light"
     },
     "output_type": "display_data"
    },
    {
     "data": {
      "text/plain": [
       "1"
      ]
     },
     "execution_count": 99,
     "metadata": {},
     "output_type": "execute_result"
    }
   ],
   "source": [
    "index = 200\n",
    "plt.imshow(x_test[index], interpolation='nearest')\n",
    "plt.show()\n",
    "predict[index]"
   ]
  },
  {
   "cell_type": "code",
   "execution_count": null,
   "id": "6505aff8",
   "metadata": {
    "papermill": {
     "duration": 0.071813,
     "end_time": "2023-01-05T11:40:16.747045",
     "exception": false,
     "start_time": "2023-01-05T11:40:16.675232",
     "status": "completed"
    },
    "tags": []
   },
   "outputs": [],
   "source": []
  }
 ],
 "metadata": {
  "kernelspec": {
   "display_name": "Python 3 (ipykernel)",
   "language": "python",
   "name": "python3"
  },
  "language_info": {
   "codemirror_mode": {
    "name": "ipython",
    "version": 3
   },
   "file_extension": ".py",
   "mimetype": "text/x-python",
   "name": "python",
   "nbconvert_exporter": "python",
   "pygments_lexer": "ipython3",
   "version": "3.10.5"
  },
  "papermill": {
   "default_parameters": {},
   "duration": 90.262104,
   "end_time": "2023-01-05T11:40:19.715019",
   "environment_variables": {},
   "exception": null,
   "input_path": "__notebook__.ipynb",
   "output_path": "__notebook__.ipynb",
   "parameters": {},
   "start_time": "2023-01-05T11:38:49.452915",
   "version": "2.3.4"
  }
 },
 "nbformat": 4,
 "nbformat_minor": 5
}

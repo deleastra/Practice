{
 "cells": [
  {
   "cell_type": "markdown",
   "id": "195a6d94",
   "metadata": {},
   "source": [
    "# Convert string to camel case\n",
    "\n",
    "### DESCRIPTION:\n",
    "Complete the method/function so that it converts dash/underscore delimited words into camel casing. The first word within the output should be capitalized only if the original word was capitalized (known as Upper Camel Case, also often referred to as Pascal case). The next words should be always capitalized.\n",
    "\n",
    "### Examples\n",
    "\n",
    "\"the-stealth-warrior\" gets converted to \"theStealthWarrior\"\n",
    "\"The_Stealth_Warrior\" gets converted to \"TheStealthWarrior\"\n",
    "\n",
    "https://www.codewars.com/kata/517abf86da9663f1d2000003"
   ]
  },
  {
   "cell_type": "code",
   "execution_count": 1,
   "id": "64a131bb",
   "metadata": {},
   "outputs": [],
   "source": [
    "def to_camel_case(text):\n",
    "    res = ''\n",
    "    i = 0\n",
    "    while(i < len(text)):\n",
    "        if text[i] == '-' or text[i] == '_' and i != len(text)-1:\n",
    "            res += text[i+1].upper()\n",
    "            i += 1\n",
    "        else:\n",
    "            res += text[i]\n",
    "        i += 1\n",
    "    return res"
   ]
  },
  {
   "cell_type": "code",
   "execution_count": 2,
   "id": "bd0b8a37",
   "metadata": {},
   "outputs": [
    {
     "data": {
      "text/plain": [
       "'theStealthWarrior'"
      ]
     },
     "execution_count": 2,
     "metadata": {},
     "output_type": "execute_result"
    }
   ],
   "source": [
    "to_camel_case('the-stealth-warrior')"
   ]
  },
  {
   "cell_type": "markdown",
   "id": "c92c2031",
   "metadata": {},
   "source": [
    "# Square Every Digit\n",
    "\n",
    "### DESCRIPTION:\n",
    "Welcome. In this kata, you are asked to square every digit of a number and concatenate them.\n",
    "\n",
    "For example, if we run 9119 through the function, 811181 will come out, because 92 is 81 and 12 is 1.\n",
    "\n",
    "Note: The function accepts an integer and returns an integer\n",
    "\n",
    "https://www.codewars.com/kata/546e2562b03326a88e000020"
   ]
  },
  {
   "cell_type": "code",
   "execution_count": 3,
   "id": "6e992fa9",
   "metadata": {},
   "outputs": [],
   "source": [
    "def square_digits(num):\n",
    "    return int(''.join([str(int(n)**2) for n in str(num)]))"
   ]
  },
  {
   "cell_type": "code",
   "execution_count": 4,
   "id": "3660c750",
   "metadata": {},
   "outputs": [
    {
     "data": {
      "text/plain": [
       "811181"
      ]
     },
     "execution_count": 4,
     "metadata": {},
     "output_type": "execute_result"
    }
   ],
   "source": [
    "square_digits(9119)"
   ]
  },
  {
   "cell_type": "markdown",
   "id": "ff49b4e8",
   "metadata": {},
   "source": [
    "# Decode the Morse code\n",
    "\n",
    "### DESCRIPTION:\n",
    "\n",
    "In this kata you have to write a simple Morse code decoder. While the Morse code is now mostly superseded by voice and digital data communication channels, it still has its use in some applications around the world.\n",
    "The Morse code encodes every character as a sequence of \"dots\" and \"dashes\". For example, the letter A is coded as ·−, letter Q is coded as −−·−, and digit 1 is coded as ·−−−−. The Morse code is case-insensitive, traditionally capital letters are used. When the message is written in Morse code, a single space is used to separate the character codes and 3 spaces are used to separate words. For example, the message HEY JUDE in Morse code is ···· · −·−−   ·−−− ··− −·· ·.\n",
    "\n",
    "NOTE: Extra spaces before or after the code have no meaning and should be ignored.\n",
    "\n",
    "In addition to letters, digits and some punctuation, there are some special service codes, the most notorious of those is the international distress signal SOS (that was first issued by Titanic), that is coded as ···−−−···. These special codes are treated as single special characters, and usually are transmitted as separate words.\n",
    "\n",
    "Your task is to implement a function that would take the morse code as input and return a decoded human-readable string.\n",
    "\n",
    "### For example:\n",
    "\n",
    "decode_morse('.... . -.--   .--- ..- -.. .')\n",
    "#should return \"HEY JUDE\"\n",
    "\n",
    "https://www.codewars.com/kata/54b724efac3d5402db00065e"
   ]
  },
  {
   "cell_type": "code",
   "execution_count": 5,
   "id": "ecf2daf3",
   "metadata": {},
   "outputs": [],
   "source": [
    "def decodeMorse(morse_code):\n",
    "    return ''.join([MORSE_CODE[code] if code != '|' else ' ' for code in morse_code.lstrip().replace('   ', ' | ').split()])"
   ]
  },
  {
   "cell_type": "markdown",
   "id": "b142ac38",
   "metadata": {},
   "source": [
    "# Your order, please\n",
    "\n",
    "### DESCRIPTION:\n",
    "\n",
    "Your task is to sort a given string. Each word in the string will contain a single number. This number is the position the word should have in the result.\n",
    "\n",
    "Note: Numbers can be from 1 to 9. So 1 will be the first word (not 0).\n",
    "\n",
    "If the input string is empty, return an empty string. The words in the input String will only contain valid consecutive numbers.\n",
    "\n",
    "### Examples\n",
    "\n",
    "```\n",
    "\"is2 Thi1s T4est 3a\"  -->  \"Thi1s is2 3a T4est\"\n",
    "\"4of Fo1r pe6ople g3ood th5e the2\"  -->  \"Fo1r the2 g3ood 4of th5e pe6ople\"\n",
    "\"\"  -->  \"\"\n",
    "```\n",
    "\n",
    "https://www.codewars.com/kata/55c45be3b2079eccff00010f"
   ]
  },
  {
   "cell_type": "code",
   "execution_count": 6,
   "id": "23da0a0a",
   "metadata": {},
   "outputs": [],
   "source": [
    "def order(sentence):\n",
    "    import re\n",
    "    res = {}\n",
    "    for w in sentence.split():\n",
    "        res[int(re.findall(r'\\d', w)[0])] = w\n",
    "    return ' '.join([res[i] for i in range(1, len(res.keys()) + 1)])"
   ]
  },
  {
   "cell_type": "code",
   "execution_count": 7,
   "id": "c97db134",
   "metadata": {},
   "outputs": [
    {
     "data": {
      "text/plain": [
       "'Thi1s is2 3a T4est'"
      ]
     },
     "execution_count": 7,
     "metadata": {},
     "output_type": "execute_result"
    }
   ],
   "source": [
    "order('is2 Thi1s T4est 3a')"
   ]
  },
  {
   "cell_type": "code",
   "execution_count": 8,
   "id": "63e7a10a",
   "metadata": {},
   "outputs": [
    {
     "data": {
      "text/plain": [
       "'Fo1r the2 g3ood 4of th5e pe6ople'"
      ]
     },
     "execution_count": 8,
     "metadata": {},
     "output_type": "execute_result"
    }
   ],
   "source": [
    "order('4of Fo1r pe6ople g3ood th5e the2')"
   ]
  },
  {
   "cell_type": "markdown",
   "id": "59bedde7",
   "metadata": {},
   "source": [
    "# Multiples of 3 or 5\n",
    "\n",
    "#### DESCRIPTION:\n",
    "\n",
    "If we list all the natural numbers below 10 that are multiples of 3 or 5, we get 3, 5, 6 and 9. The sum of these multiples is 23.\n",
    "\n",
    "Finish the solution so that it returns the sum of all the multiples of 3 or 5 below the number passed in. Additionally, if the number is negative, return 0 (for languages that do have them).\n",
    "\n",
    "Note: If the number is a multiple of both 3 and 5, only count it once.\n",
    "\n",
    "https://www.codewars.com/kata/514b92a657cdc65150000006"
   ]
  },
  {
   "cell_type": "code",
   "execution_count": 9,
   "id": "8281f846",
   "metadata": {},
   "outputs": [],
   "source": [
    "def solution(number):\n",
    "    num_set = set()\n",
    "    for i in range(3, number, 3):\n",
    "        num_set.add(i)\n",
    "    for i in range(5, number, 5):\n",
    "        num_set.add(i)\n",
    "    return sum(num_set)"
   ]
  },
  {
   "cell_type": "code",
   "execution_count": 10,
   "id": "99b9fa16",
   "metadata": {},
   "outputs": [
    {
     "data": {
      "text/plain": [
       "23"
      ]
     },
     "execution_count": 10,
     "metadata": {},
     "output_type": "execute_result"
    }
   ],
   "source": [
    "solution(10)"
   ]
  },
  {
   "cell_type": "markdown",
   "id": "f33aec3d",
   "metadata": {},
   "source": [
    "# Persistent Bugger.\n",
    "\n",
    "#### DESCRIPTION:\n",
    "Write a function, persistence, that takes in a positive parameter num and returns its multiplicative persistence, which is the number of times you must multiply the digits in num until you reach a single digit.\n",
    "\n",
    "#### For example (Input --> Output):\n",
    "\n",
    "    39 --> 3 (because 3*9 = 27, 2*7 = 14, 1*4 = 4 and 4 has only one digit)\n",
    "    999 --> 4 (because 9*9*9 = 729, 7*2*9 = 126, 1*2*6 = 12, and finally 1*2 = 2)\n",
    "    4 --> 0 (because 4 is already a one-digit number)\n",
    "\n",
    "https://www.codewars.com/kata/55bf01e5a717a0d57e0000ec"
   ]
  },
  {
   "cell_type": "code",
   "execution_count": 11,
   "id": "9f2db55f",
   "metadata": {},
   "outputs": [],
   "source": [
    "def persistence(n):\n",
    "    res = 0\n",
    "    n = [int(x) for x in str(n)]\n",
    "    while len(n) != 1:\n",
    "        z = 1\n",
    "        for y in n:\n",
    "            z = y * z\n",
    "        n = [int(x) for x in str(z)]\n",
    "        res += 1\n",
    "    return res"
   ]
  },
  {
   "cell_type": "code",
   "execution_count": 12,
   "id": "c0c126ff",
   "metadata": {},
   "outputs": [
    {
     "data": {
      "text/plain": [
       "3"
      ]
     },
     "execution_count": 12,
     "metadata": {},
     "output_type": "execute_result"
    }
   ],
   "source": [
    "persistence(39)"
   ]
  },
  {
   "cell_type": "markdown",
   "id": "a15620c6",
   "metadata": {},
   "source": [
    "# Build Tower\n",
    "\n",
    "#### DESCRIPTION:\n",
    "\n",
    "Build Tower\n",
    "Build a pyramid-shaped tower, as an array/list of strings, given a positive integer number of floors. A tower block is represented with \"*\" character.\n",
    "\n",
    "For example, a tower with 3 floors looks like this:\n",
    "\n",
    "    [\n",
    "      \"  *  \",\n",
    "      \" *** \", \n",
    "      \"*****\"\n",
    "    ]\n",
    "    \n",
    "And a tower with 6 floors looks like this:\n",
    "\n",
    "    [\n",
    "      \"     *     \", \n",
    "      \"    ***    \", \n",
    "      \"   *****   \", \n",
    "      \"  *******  \", \n",
    "      \" ********* \", \n",
    "      \"***********\"\n",
    "    ]\n",
    "\n",
    "https://www.codewars.com/kata/576757b1df89ecf5bd00073b"
   ]
  },
  {
   "cell_type": "code",
   "execution_count": 13,
   "id": "5a288569",
   "metadata": {},
   "outputs": [],
   "source": [
    "def tower_builder(n_floors):\n",
    "    return [' ' * (n_floors-i-1) + '*' * (i*2+1) + ' ' * (n_floors-i-1) for i in range(n_floors)]"
   ]
  },
  {
   "cell_type": "code",
   "execution_count": 14,
   "id": "8df63849",
   "metadata": {},
   "outputs": [
    {
     "data": {
      "text/plain": [
       "['    *    ', '   ***   ', '  *****  ', ' ******* ', '*********']"
      ]
     },
     "execution_count": 14,
     "metadata": {},
     "output_type": "execute_result"
    }
   ],
   "source": [
    "tower_builder(5)"
   ]
  },
  {
   "cell_type": "code",
   "execution_count": 17,
   "id": "b610f975",
   "metadata": {},
   "outputs": [
    {
     "name": "stdout",
     "output_type": "stream",
     "text": [
      "    *    \n",
      "   ***   \n",
      "  *****  \n",
      " ******* \n",
      "*********\n"
     ]
    }
   ],
   "source": [
    "print('\\n'.join(tower_builder(5)))"
   ]
  },
  {
   "cell_type": "code",
   "execution_count": null,
   "id": "c311935b",
   "metadata": {},
   "outputs": [],
   "source": []
  }
 ],
 "metadata": {
  "kernelspec": {
   "display_name": "Python 3 (ipykernel)",
   "language": "python",
   "name": "python3"
  },
  "language_info": {
   "codemirror_mode": {
    "name": "ipython",
    "version": 3
   },
   "file_extension": ".py",
   "mimetype": "text/x-python",
   "name": "python",
   "nbconvert_exporter": "python",
   "pygments_lexer": "ipython3",
   "version": "3.10.5"
  }
 },
 "nbformat": 4,
 "nbformat_minor": 5
}
